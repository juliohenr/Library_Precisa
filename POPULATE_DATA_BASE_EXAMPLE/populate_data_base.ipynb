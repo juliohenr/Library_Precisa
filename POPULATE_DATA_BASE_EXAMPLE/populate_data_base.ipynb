{
 "cells": [
  {
   "cell_type": "code",
   "execution_count": 2,
   "metadata": {},
   "outputs": [],
   "source": [
    "import requests"
   ]
  },
  {
   "cell_type": "markdown",
   "metadata": {},
   "source": [
    "## Registers Fantasy"
   ]
  },
  {
   "cell_type": "code",
   "execution_count": 11,
   "metadata": {},
   "outputs": [
    {
     "data": {
      "text/plain": [
       "200"
      ]
     },
     "execution_count": 11,
     "metadata": {},
     "output_type": "execute_result"
    }
   ],
   "source": [
    "request = '{\"book_name\": \"Harry Potter e a ordem da Fênix\", \"author\": \"J . K Rolling\", \"volume\": 1, \"version\": 2, \"category\": \"Fantasia\",\"synopsis\": \"Harry não é mais um garoto. Aos 15 anos, continua sofrendo a rejeição dos Dursdley, sua estranha família no mundo dos trouxas. Também continua contando com Rony Weasley e Hermione Granger, seus melhores amigos em Hogwarts, para levar adiante suas investigações e aventuras. Mas o bruxinho começa a sentir e descobrir coisas novas, como o primeiro amor e a sexualidade. Nos volumes anteriores, J. K. Rowling mostrou como Harry foi transformado em celebridade no mundo da magia por ter derrotado, ainda bebê, Voldemort, o todo-poderoso bruxo das trevas que assassinou seus pais. Neste quinto livro da saga, o protagonista, numa crise típica da adolescência, tem ataques de mau humor com a perseguição da imprensa, que o segue por todos os lugares e chega a inventar declarações que nunca deu. Harry vai enfrentar as investidas de Voldemort sem a proteção de Dumbledore, já que o diretor de Hogwarts é afastado da escola. E vai ser sem a ajuda de seu protetor que o jovem herói enfrentará descobertas sobre a personalidade controversa de seu pai, Tiago Potter, e a morte de alguém muito próximo.\"}'\n",
    "\n",
    "files =  {'file': open('images/Harry Potter e a ordem da Fênix.jpg', 'rb')}\n",
    "response = requests.post('http://localhost:3000/add_books', data= {\"request\":request},files=files)\n",
    "response.status_code"
   ]
  },
  {
   "cell_type": "code",
   "execution_count": 12,
   "metadata": {},
   "outputs": [
    {
     "data": {
      "text/plain": [
       "200"
      ]
     },
     "execution_count": 12,
     "metadata": {},
     "output_type": "execute_result"
    }
   ],
   "source": [
    "request = '{\"book_name\": \"Senhor dos Anéis Sociedade do Anel\", \"author\": \"J . R . R TOLKIEN\", \"volume\": 1, \"version\": 1, \"category\": \"Fantasia\",\"synopsis\": \"Numa terra fantástica e única, chamada Terra-Média, um hobbit (seres de estatura entre 80 cm e 1,20 m, com pés peludos e bochechas um pouco avermelhadas) recebe de presente de seu tio o Um Anel, um anel mágico e maligno que precisa ser destruído antes que caia nas mãos do mal. Para isso o hobbit Frodo (Elijah Woods) terá um caminho árduo pela frente, onde encontrará perigo, medo e personagens bizarros. Ao seu lado para o cumprimento desta jornada aos poucos ele poderá contar com outros hobbits, um elfo, um anão, dois humanos e um mago, totalizando 9 pessoas que formarão a Sociedade do Anel.\"}'\n",
    "\n",
    "files =  {'file': open('images/senhor_dos_aneis.jpg', 'rb')}\n",
    "response = requests.post('http://localhost:3000/add_books', data= {\"request\":request},files=files)\n",
    "response.status_code"
   ]
  },
  {
   "cell_type": "code",
   "execution_count": 13,
   "metadata": {},
   "outputs": [
    {
     "data": {
      "text/plain": [
       "200"
      ]
     },
     "execution_count": 13,
     "metadata": {},
     "output_type": "execute_result"
    }
   ],
   "source": [
    "request = '{\"book_name\": \"Herança\", \"author\": \"Christopher Paolini\", \"volume\": 1, \"version\": 1, \"category\": \"Fantasia\",\"synopsis\": \"Herança é o quarto e último livro da série Ciclo da Herança, do escritor norte-americano Christopher Paolini. A história acompanha a vida de Eragon, um Cavaleiro de Dragões do continente ficcional de Alagaësia, que luta junto de seu dragão Saphira para acabar com o reinado opressor do Imperador Galbatorix.\"}'\n",
    "\n",
    "files =  {'file': open('images/eragon_heranca.jpg', 'rb')}\n",
    "response = requests.post('http://localhost:3000/add_books', data= {\"request\":request},files=files)\n",
    "response.status_code"
   ]
  },
  {
   "cell_type": "code",
   "execution_count": 14,
   "metadata": {},
   "outputs": [
    {
     "data": {
      "text/plain": [
       "200"
      ]
     },
     "execution_count": 14,
     "metadata": {},
     "output_type": "execute_result"
    }
   ],
   "source": [
    "request = '{\"book_name\": \"As Crônicas de Gelo e Fogo\", \"author\": \"George R.R. Martin\", \"volume\": 1, \"version\": 1, \"category\": \"Fantasia\",\"synopsis\": \"Quando Eddard Stark, lorde do castelo de Winterfell, aceita a prestigiada posição de Mão do Rei oferecida pelo velho amigo, o rei Robert Baratheon, não desconfia que sua vida está prestes a ruir em sucessivas tragédias.\"}'\n",
    "\n",
    "files =  {'file': open('images/cronicas_de_gelo_e_fogo.jpg', 'rb')}\n",
    "response = requests.post('http://localhost:3000/add_books', data= {\"request\":request},files=files)\n",
    "response.status_code"
   ]
  },
  {
   "cell_type": "code",
   "execution_count": 15,
   "metadata": {},
   "outputs": [
    {
     "data": {
      "text/plain": [
       "200"
      ]
     },
     "execution_count": 15,
     "metadata": {},
     "output_type": "execute_result"
    }
   ],
   "source": [
    "request = '{\"book_name\": \"Excalibur\", \"author\": \"Bernard Cornwell\", \"volume\": 1, \"version\": 1, \"category\": \"Fantasia\",\"synopsis\": \"Durante a era medieval, o rei Uther Pendragon recebe do mago Merlin a mística espada Excalibur. ... Com a Inglaterra dividida pela ausência de um rei, vários nobres disputam a posse da espada, mas apenas o jovem Arthur, filho de Uther, auxiliado por Merlin, consegue retirá-la.\"}'\n",
    "\n",
    "files =  {'file': open('images/excalibur.jpg', 'rb')}\n",
    "response = requests.post('http://localhost:3000/add_books', data= {\"request\":request},files=files)\n",
    "response.status_code"
   ]
  },
  {
   "cell_type": "code",
   "execution_count": 16,
   "metadata": {},
   "outputs": [
    {
     "data": {
      "text/plain": [
       "200"
      ]
     },
     "execution_count": 16,
     "metadata": {},
     "output_type": "execute_result"
    }
   ],
   "source": [
    "request = '{\"book_name\": \"O Hobbit\", \"author\": \"J . R . R TOLKIEN\", \"volume\": 1, \"version\": 1, \"category\": \"Fantasia\",\"synopsis\": \"O Hobbit conta a história de Bilbo Bolseiro, um Hobbit pacato e satisfeito cuja vida vira de cabeça para baixo quando ele se junta ao mago Gandalf e a treze anões em sua jornada para reaver um tesouro roubado.\"}'\n",
    "\n",
    "files =  {'file': open('images/hobbit.jpg', 'rb')}\n",
    "response = requests.post('http://localhost:3000/add_books', data= {\"request\":request},files=files)\n",
    "response.status_code"
   ]
  },
  {
   "cell_type": "code",
   "execution_count": 21,
   "metadata": {},
   "outputs": [
    {
     "data": {
      "text/plain": [
       "200"
      ]
     },
     "execution_count": 21,
     "metadata": {},
     "output_type": "execute_result"
    }
   ],
   "source": [
    "request = '{\"book_name\": \"Crepúsculo\", \"author\": \"Stephenie Meyer\", \"volume\": 1, \"version\": 1, \"category\": \"Fantasia\",\"synopsis\": \"Crepúsculo poderia ser uma história comum, não fosse um elemento irresistível: o objeto da paixão da protagonista é um vampiro. Assim, soma-se à paixão um perigo sobrenatural temperado com muito suspense\"}'\n",
    "\n",
    "files =  {'file': open('images/crepusculo.jpg', 'rb')}\n",
    "response = requests.post('http://localhost:3000/add_books', data= {\"request\":request},files=files)\n",
    "response.status_code"
   ]
  },
  {
   "cell_type": "code",
   "execution_count": null,
   "metadata": {},
   "outputs": [],
   "source": []
  }
 ],
 "metadata": {
  "kernelspec": {
   "display_name": "Python 3",
   "language": "python",
   "name": "python3"
  },
  "language_info": {
   "codemirror_mode": {
    "name": "ipython",
    "version": 3
   },
   "file_extension": ".py",
   "mimetype": "text/x-python",
   "name": "python",
   "nbconvert_exporter": "python",
   "pygments_lexer": "ipython3",
   "version": "3.7.4"
  }
 },
 "nbformat": 4,
 "nbformat_minor": 2
}
